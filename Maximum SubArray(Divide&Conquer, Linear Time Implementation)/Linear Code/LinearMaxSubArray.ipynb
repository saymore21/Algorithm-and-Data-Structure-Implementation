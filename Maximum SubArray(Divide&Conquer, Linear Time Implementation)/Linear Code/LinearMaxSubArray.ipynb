{
 "cells": [
  {
   "cell_type": "code",
   "execution_count": 2,
   "metadata": {},
   "outputs": [
    {
     "name": "stdout",
     "output_type": "stream",
     "text": [
      "Enter the number of elements you want:6\n",
      "Enter numbers in array: \n",
      "number :2\n",
      "number :5\n",
      "number :4\n",
      "number :7\n",
      "number :8\n",
      "number :9\n",
      "i 0\n",
      "j 5\n",
      "i 0\n",
      "j 2\n",
      "i 0\n",
      "j 1\n",
      "i 3\n",
      "j 5\n",
      "i 3\n",
      "j 4\n",
      "Total time taken in seconds :  0.001992940902709961\n",
      "\n",
      "Total Sum:  35\n",
      "Maximum Sum:  35\n"
     ]
    }
   ],
   "source": [
    "import time\n",
    "\n",
    "def FMS_COMPARE(A, low, high):\n",
    "    low  = int(low)\n",
    "    high = int(high)\n",
    "    if(low == high):\n",
    "        return ([A[low],A[low],A[low],A[low]])\n",
    "    else:\n",
    "        mid = (low+high)/2\n",
    "        print(\"i\", low)\n",
    "        print(\"j\", high)\n",
    "        Left = FMS_COMPARE(A, low, mid)\n",
    "        Right = FMS_COMPARE(A, mid + 1, high)\n",
    "        return COMPARE(A, Left, Right)\n",
    "    \n",
    "    \n",
    "def COMPARE(A, L, R):\n",
    "    totalSum  = L[0] + R[0]\n",
    "    maxPrefix = max(L[2],L[0] + R[0])\n",
    "    maxSuffix = max(R[3], R[0] + L[3])\n",
    "    maxSum = max(L[1],R[1],L[3] + R[2])\n",
    "    return ([totalSum, maxSum, maxPrefix,maxSuffix])\n",
    "\n",
    "number_array = list()\n",
    "number = input(\"Enter the number of elements you want:\")\n",
    "print ('Enter numbers in array: ')\n",
    "for i in range(int(number)):\n",
    "    n = input(\"number :\")\n",
    "    number_array. append(int(n))\n",
    "    \n",
    "start = time.time()\n",
    "ans = FMS_COMPARE(number_array,0,(len(number_array)-1))\n",
    "end = time.time()\n",
    "print(\"Total time taken in seconds : \", end - start)\n",
    "\n",
    "print(\"\\nTotal Sum: \", ans[0])\n",
    "print(\"Maximum Sum: \", ans[1])"
   ]
  },
  {
   "cell_type": "code",
   "execution_count": null,
   "metadata": {},
   "outputs": [],
   "source": []
  },
  {
   "cell_type": "code",
   "execution_count": null,
   "metadata": {},
   "outputs": [],
   "source": []
  }
 ],
 "metadata": {
  "kernelspec": {
   "display_name": "Python 3",
   "language": "python",
   "name": "python3"
  },
  "language_info": {
   "codemirror_mode": {
    "name": "ipython",
    "version": 3
   },
   "file_extension": ".py",
   "mimetype": "text/x-python",
   "name": "python",
   "nbconvert_exporter": "python",
   "pygments_lexer": "ipython3",
   "version": "3.7.2"
  }
 },
 "nbformat": 4,
 "nbformat_minor": 2
}
